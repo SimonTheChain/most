{
 "cells": [
  {
   "cell_type": "markdown",
   "metadata": {},
   "source": [
    "# Imports"
   ]
  },
  {
   "cell_type": "code",
   "execution_count": 1,
   "metadata": {},
   "outputs": [],
   "source": [
    "import os\n",
    "import datetime\n",
    "\n",
    "from sqlalchemy.ext.declarative import declarative_base\n",
    "from sqlalchemy import Column, Integer, String, DateTime, Float\n",
    "from sqlalchemy import ForeignKey\n",
    "from sqlalchemy.orm import relationship\n",
    "\n",
    "import ipynb.fs.full.db_ops\n",
    "from ipynb.fs.full.tables import SatStats"
   ]
  },
  {
   "cell_type": "markdown",
   "metadata": {},
   "source": [
    "# Declare a mapping"
   ]
  },
  {
   "cell_type": "code",
   "execution_count": 2,
   "metadata": {},
   "outputs": [],
   "source": [
    "Base = declarative_base()"
   ]
  },
  {
   "cell_type": "code",
   "execution_count": 3,
   "metadata": {},
   "outputs": [],
   "source": [
    "class SatStats(Base):\n",
    "    __tablename__ = \"sat_stats\"\n",
    "    \n",
    "    id = Column(Integer, primary_key=True)\n",
    "    filename = Column(String(100), unique=True)\n",
    "    observer = Column(String(100))\n",
    "    target = Column(String(100))\n",
    "    exposure_date = Column(DateTime, default=datetime.datetime.now)\n",
    "    amplifier_value = Column(Integer)\n",
    "    gain = Column(Integer)\n",
    "    magnetic_field = Column(Float)\n",
    "    heater_voltage = Column(Float)\n",
    "    ccd_temp = Column(Float)\n",
    "    board_temp = Column(Float)\n",
    "    preamp_temp = Column(Float)\n",
    "    errors = Column(Integer)\n",
    "    \n",
    "    def __repr__(self):\n",
    "        return filename"
   ]
  },
  {
   "cell_type": "markdown",
   "metadata": {},
   "source": [
    "# Create a schema"
   ]
  },
  {
   "cell_type": "code",
   "execution_count": 4,
   "metadata": {},
   "outputs": [],
   "source": [
    "engine = ipynb.fs.full.db_ops.get_engine()\n",
    "Base.metadata.create_all(engine)"
   ]
  }
 ],
 "metadata": {
  "kernelspec": {
   "display_name": "Python 3",
   "language": "python",
   "name": "python3"
  },
  "language_info": {
   "codemirror_mode": {
    "name": "ipython",
    "version": 3
   },
   "file_extension": ".py",
   "mimetype": "text/x-python",
   "name": "python",
   "nbconvert_exporter": "python",
   "pygments_lexer": "ipython3",
   "version": "3.7.1"
  }
 },
 "nbformat": 4,
 "nbformat_minor": 2
}
