{
 "cells": [
  {
   "cell_type": "code",
   "execution_count": 1,
   "metadata": {},
   "outputs": [],
   "source": [
    "import matplotlib.pyplot as plt\n",
    "from astropy.visualization import astropy_mpl_style\n",
    "from astropy.io import fits\n",
    "import pandas as pd\n",
    "import numpy as np\n",
    "\n",
    "plt.style.use(astropy_mpl_style)\n",
    "%matplotlib inline"
   ]
  },
  {
   "cell_type": "code",
   "execution_count": 2,
   "metadata": {},
   "outputs": [],
   "source": [
    "image_filename = \"../datasets/test.fits\""
   ]
  },
  {
   "cell_type": "code",
   "execution_count": 3,
   "metadata": {},
   "outputs": [],
   "source": [
    "with fits.open(image_filename) as hdul:\n",
    "    data = hdul[0].data\n",
    "    hdr = hdul[0].header"
   ]
  },
  {
   "cell_type": "code",
   "execution_count": 4,
   "metadata": {},
   "outputs": [
    {
     "data": {
      "text/plain": [
       "SIMPLE  =                    T / Written by IDL:  Thu Jan 21 16:46:10 2016      \n",
       "BITPIX  =                   32 / length of data axis 1                          \n",
       "NAXIS   =                    2 / data unit checksum updated 2014-10-09T06:38:39 \n",
       "NAXIS1  =                   20 / IMAGE extension                                \n",
       "NAXIS2  =                   20 / length of data axis 2                          \n",
       "EXTEND  =                    T / FITS dataset may contain extensions            \n",
       "COMMENT   FITS (Flexible Image Transport System) format is defined in 'Astronomy\n",
       "COMMENT   and Astrophysics', volume 376, page 359; bibcode: 2001A&A...376..359H \n",
       "DATE    = '2014-10-09T06:38:39' / file creation date (YYYY-MM-DDThh:mm:ss UT)   \n",
       "TELESCOP= 'MOST    '           / TELESCOPE                                      \n",
       "DATE-REL= '2035-12-12T00:00:00.00' /Release Date.Default = \"12-31-2035T00:00:00.\n",
       "VRSNARCH= '6.0.0.29'           / ARCHIVE VERSION                                \n",
       "VRSNFITS=                    3 / FITS VERSION NUMBER                            \n",
       "VRSN_TEL=                    5 / TELEMETRY VERSION NUMBER                       \n",
       "ID_STRM =                   30 / STREAM USER ID                                 \n",
       "COMMENT Original filename: SDS2 140820151255 00FE65F5 00FFEC95_0002.fits        \n",
       "EXP_NUM =                   30 / EXPOSURE NUMBER                                \n",
       "DATE-OBS= '2014-08-19T20:11:35.000' / DATE OF EXPOSURE                          \n",
       "JD-OBS  =        5344.34137731 / [JD - JD2000] JD2000 OF EXPOSURE               \n",
       "DATE-CAL= '2014-08-19T20:11:40.560' / CALIBRATED DATE OF EXPOSURE               \n",
       "JD-CAL  =        5344.34144167 / [JD - JD2000] CALIBRATED JD2000 OF EXPOSURE    \n",
       "TIME-OBS=            523128315 / TIMESTAMP OF EXPOSURE                          \n",
       "LEN_FLU =               18.800 / [MSEC] LENGTH OF FLUSH                         \n",
       "LEN_EXP =             1510.000 / [MSEC] LENGTH OF FLUSH AND EXPOSURE TIME       \n",
       "LEN_TRAN=               18.800 / [MSEC] LENGTH OF FRAME TRANSFER                \n",
       "LEN_READ=              280.000 / [MSEC] LENGTH OF FRAME TRANSFER AND READOUT    \n",
       "OBSERVER= 'MOST    '           / Observer                                       \n",
       "TARGET  = '268_HD209548_2014'  / Target                                         \n",
       "COMMENTS= '        '           / Comment                                        \n",
       "VBIN    =                    1 / Vertical bin                                   \n",
       "HBIN    =                    1 / Horizontal bin                                 \n",
       "OPAMP   =                    3 / Amplifier                                      \n",
       "GAIN    =                    1 / Gain                                           \n",
       "NUM_RGNS=                   50 / Number of raster regions                       \n",
       "RA      =             331.3097 / [DEGREES] RIGHT ASCENSION                      \n",
       "DEC     =              19.0393 / [DEGREES] DECLINATION                          \n",
       "EQUINOX =            2000.0000 / EQUINOX OF RA AND DEC                          \n",
       "TIMECORR=                    1 / LEVEL OF TIME CORRECTION [0,1,2]               \n",
       "SAT_ROLL=              85.0273 / [DEGREES] SATELLITE ROLL ANGLE                 \n",
       "TLE_1_0 = '1 27843U 03031D   14231.08622249  .' / TLE 1                         \n",
       "TLE_1_1 = '00000051  00000-0  44367-4 0    80' / TLE 1                          \n",
       "TLE_2_0 = '2 27843  98.7173 237.8886 0011085 1' / TLE 2                         \n",
       "TLE_2_1 = '10.4011 291.9344 14.20392398577299' / TLE 2                          \n",
       "SAT_STAT= 'OK      '           / SATELLITE POSITION STATUS                      \n",
       "SAT_LONG=             -18.6434 / [DEGREES] LONGITUDE OF SATELLITE               \n",
       "SAT_LAT =             -57.1388 / [DEGREES] LATITUDE OF SATELLITE                \n",
       "SAT_ALT =           838931.497 / [M] ALTITUDE OF SATELLITE                      \n",
       "TLE_DIFF=                0.755 / [DAYS] TIME DIFFERENCE FROM CLOSEST TLE        \n",
       "ELA_ANG =               17.789 / [DEGREES] ANGLE TO EARTH LIMB                  \n",
       "NAD_RA  =              72.3743 / [DEGREES] NADIR RIGHT ASCENSION                \n",
       "NAD_DEC =              57.1388 / [DEGREES] NADIR DECLINATION                    \n",
       "NAD_PHI =             -78.6034 / [DEGREES] NADIR LONGITUDE                      \n",
       "NAD_THET=             -27.3059 / [DEGREES] NADIR LATITUDE                       \n",
       "SOL_RA  =             148.9860 / [DEGREES] SOLAR RIGHT ASCENSION                \n",
       "SOL_DEC =              12.5898 / [DEGREES] SOLAR DECLINATION                    \n",
       "SOL_ALTI=             -17.8009 / [DEGREES] SOLAR ALTITUDE                       \n",
       "SOL_AZIM=             -94.3098 / [DEGREES] SOLAR AZIMUTH                        \n",
       "SOL_PHI =            -148.2898 / [DEGREES] SOLAR LONGITUDE                      \n",
       "SOL_THET=               0.3445 / [DEGREES] SOLAR LATITUDE                       \n",
       "LUN_RA  =              83.1685 / [DEGREES] LUNAR RIGHT ASCENSION                \n",
       "LUN_DEC =              19.3823 / [DEGREES] LUNAR DECLINATION                    \n",
       "LUN_ALTI=             -51.4039 / [DEGREES] LUNAR ALTITUDE                       \n",
       "LUN_AZIM=            -163.5487 / [DEGREES] LUNAR AZIMUTH                        \n",
       "LUN_PHI =            -113.9988 / [DEGREES] LUNAR LONGITUDE                      \n",
       "LUN_THET=             -56.6246 / [DEGREES] LUNAR LATITUDE                       \n",
       "LUN_SEP =              102.929 / [DEGREES] LUNAR-TARGET ANGULAR SEPERATION      \n",
       "HJD-CORR=         429.19173309 / [Seconds] Heliocentric correction              \n",
       "HJD     =     2456889.34640916 / [JD] Heliocentric Julian Date                  \n",
       "MAG_STAT= 'OK      '           / MAGNETIC FIELD STATUS                          \n",
       "MAG_FLD =            22098.867 / [nT] MAGNETIC FIELD STRENGTH                   \n",
       "NUM_TO  =                   40 / NUMBER OF TIME OFFSETS                         \n",
       "TO_00   =                  152 / TIME OFFSET                                    \n",
       "TO_01   =                  304 / TIME OFFSET                                    \n",
       "TO_02   =                  455 / TIME OFFSET                                    \n",
       "TO_03   =                  607 / TIME OFFSET                                    \n",
       "TO_04   =                  759 / TIME OFFSET                                    \n",
       "TO_05   =                  911 / TIME OFFSET                                    \n",
       "TO_06   =                 1063 / TIME OFFSET                                    \n",
       "TO_07   =                 1215 / TIME OFFSET                                    \n",
       "TO_08   =                 1367 / TIME OFFSET                                    \n",
       "TO_09   =                 1519 / TIME OFFSET                                    \n",
       "TO_10   =                 1671 / TIME OFFSET                                    \n",
       "TO_11   =                 1823 / TIME OFFSET                                    \n",
       "TO_12   =                 1975 / TIME OFFSET                                    \n",
       "TO_13   =                 2126 / TIME OFFSET                                    \n",
       "TO_14   =                 2278 / TIME OFFSET                                    \n",
       "TO_15   =                 2430 / TIME OFFSET                                    \n",
       "TO_16   =                 2582 / TIME OFFSET                                    \n",
       "TO_17   =                 2734 / TIME OFFSET                                    \n",
       "TO_18   =                 2886 / TIME OFFSET                                    \n",
       "TO_19   =                 3038 / TIME OFFSET                                    \n",
       "TO_20   =                 3190 / TIME OFFSET                                    \n",
       "TO_21   =                 3342 / TIME OFFSET                                    \n",
       "TO_22   =                 3494 / TIME OFFSET                                    \n",
       "TO_23   =                 3646 / TIME OFFSET                                    \n",
       "TO_24   =                 3797 / TIME OFFSET                                    \n",
       "TO_25   =                 3949 / TIME OFFSET                                    \n",
       "TO_26   =                 4101 / TIME OFFSET                                    \n",
       "TO_27   =                 4253 / TIME OFFSET                                    \n",
       "TO_28   =                 4405 / TIME OFFSET                                    \n",
       "TO_29   =                 4557 / TIME OFFSET                                    \n",
       "TO_30   =                 4709 / TIME OFFSET                                    \n",
       "TO_31   =                 4861 / TIME OFFSET                                    \n",
       "TO_32   =                 5013 / TIME OFFSET                                    \n",
       "TO_33   =                 5165 / TIME OFFSET                                    \n",
       "TO_34   =                 5317 / TIME OFFSET                                    \n",
       "TO_35   =                 5468 / TIME OFFSET                                    \n",
       "TO_36   =                 5620 / TIME OFFSET                                    \n",
       "TO_37   =                 5772 / TIME OFFSET                                    \n",
       "TO_38   =                 5924 / TIME OFFSET                                    \n",
       "TO_39   =                 6076 / TIME OFFSET                                    \n",
       "TOT_EXP =                61910 / [MSEC] TOTAL EXPOSURE TIME                     \n",
       "MID_EXP =                31120 / [MSEC] OFFSET TO TIME OF MID_EXPOSURE          \n",
       "ERR_NUMB=                   82 / NUMBER OF ERROR VALUES                         \n",
       "ERR_MISS=                    0 / NUMBER OF MISSING ERROR VALUES                 \n",
       "ERR_RANG=                    0 / NUMBER OF OUT OF RANGE ERROR VALUES            \n",
       "ERX_NUMB=                   82 / NUMBER OF VALID ACS X ERROR VALUES             \n",
       "ERX_MEAN=               -0.111 / MEAN VALUE OF VALID ACS X ERROR VALUES         \n",
       "ERX_AMAX=                0.619 / MAX ABSOLUTE VALUE OF VALID ACS X ERROR VALUES \n",
       "ERX_STD =                0.169 / STANDARD DEVIATION OF VALID ACS X ERROR VALUES \n",
       "ERY_NUMB=                   82 / NUMBER OF VALID ACS Y ERROR VALUES             \n",
       "ERY_MEAN=               -0.038 / MEAN VALUE OF VALID ACS Y ERROR VALUES         \n",
       "ERY_AMAX=                0.619 / MAX ABSOLUTE VALUE OF VALID ACS Y ERROR VALUES \n",
       "ERY_STD =                0.227 / STANDARD DEVIATION OF VALID ACS Y ERROR VALUES \n",
       "ERZ_NUMB=                   82 / NUMBER OF VALID ACS Z ERROR VALUES             \n",
       "ERZ_MEAN=                5.635 / MEAN VALUE OF VALID ACS Z ERROR VALUES         \n",
       "ERZ_AMAX=               10.313 / MAX ABSOLUTE VALUE OF VALID ACS Z ERROR VALUES \n",
       "ERZ_STD =                2.175 / STANDARD DEVIATION OF VALID ACS Z ERROR VALUES \n",
       "HEATER_V=                3.305 / [MILLIVOLTS] HEATER VOLTAGE                    \n",
       "T_CCD   =              237.982 / [K] TEMPERATURE OF CCD                         \n",
       "T_BOARD =              302.856 / [K] TEMPERATURE OF BOARD                       \n",
       "T_PREAMP=              256.348 / [K] TEMPERATURE OF PREAMPLIFIER                \n",
       "NUM_BIAS=                    0 / NUMBER OF MEAN BIAS VALUES                     \n",
       "NUM_DARK=                    0 / NUMBER OF MEAN DARK VALUES                     \n",
       "FRMT_SCI=                    2 / SCIENCE STREAM FORMAT NUMBER                   \n",
       "VRSN_SCI=                32771 / SCIENCE STREAM VERSION NUMBER                  \n",
       "DATA_LAB= '5344_34144166_SDS2' / DATA LABEL                                     \n",
       "GS_I0000=                32549 / GUIDE STAR INTENSITY                           \n",
       "GS_T0000=                61910 / [MSEC] GUIDE STAR LENGTH OF EXPOSURE           \n",
       "GS_L0000= 'GSC 01688-00675'    / GUIDE STAR IDENTIFIER                          \n",
       "GS_I0001=               246281 / GUIDE STAR INTENSITY                           \n",
       "GS_T0001=                61910 / [MSEC] GUIDE STAR LENGTH OF EXPOSURE           \n",
       "GS_L0001= 'GSC 01688-00754'    / GUIDE STAR IDENTIFIER                          \n",
       "GS_I0002=               164339 / GUIDE STAR INTENSITY                           \n",
       "GS_T0002=                61910 / [MSEC] GUIDE STAR LENGTH OF EXPOSURE           \n",
       "GS_L0002= 'GSC 01688-00773'    / GUIDE STAR IDENTIFIER                          \n",
       "GS_I0003=                10621 / GUIDE STAR INTENSITY                           \n",
       "GS_T0003=                61910 / [MSEC] GUIDE STAR LENGTH OF EXPOSURE           \n",
       "GS_L0003= 'GSC 01688-01007'    / GUIDE STAR IDENTIFIER                          \n",
       "GS_I0004=                12004 / GUIDE STAR INTENSITY                           \n",
       "GS_T0004=                61910 / [MSEC] GUIDE STAR LENGTH OF EXPOSURE           \n",
       "GS_L0004= 'GSC 01688-00712'    / GUIDE STAR IDENTIFIER                          \n",
       "GS_I0005=                55158 / GUIDE STAR INTENSITY                           \n",
       "GS_T0005=                61910 / [MSEC] GUIDE STAR LENGTH OF EXPOSURE           \n",
       "GS_L0005= 'GSC 01688-00523'    / GUIDE STAR IDENTIFIER                          \n",
       "GS_I0006=                12104 / GUIDE STAR INTENSITY                           \n",
       "GS_T0006=                61910 / [MSEC] GUIDE STAR LENGTH OF EXPOSURE           \n",
       "GS_L0006= 'GSC 01688-00903'    / GUIDE STAR IDENTIFIER                          \n",
       "GS_I0007=                 6403 / GUIDE STAR INTENSITY                           \n",
       "GS_T0007=                61910 / [MSEC] GUIDE STAR LENGTH OF EXPOSURE           \n",
       "GS_L0007= 'GSC 01688-00883'    / GUIDE STAR IDENTIFIER                          \n",
       "GS_I0008=                12971 / GUIDE STAR INTENSITY                           \n",
       "GS_T0008=                61910 / [MSEC] GUIDE STAR LENGTH OF EXPOSURE           \n",
       "GS_L0008= 'GSC 01688-00640'    / GUIDE STAR IDENTIFIER                          \n",
       "GS_I0009=                44315 / GUIDE STAR INTENSITY                           \n",
       "GS_T0009=                61910 / [MSEC] GUIDE STAR LENGTH OF EXPOSURE           \n",
       "GS_L0009= 'GSC 01688-00682'    / GUIDE STAR IDENTIFIER                          \n",
       "GS_I0010=               868787 / GUIDE STAR INTENSITY                           \n",
       "GS_T0010=                61910 / [MSEC] GUIDE STAR LENGTH OF EXPOSURE           \n",
       "GS_L0010= 'GSC 01688-01821'    / GUIDE STAR IDENTIFIER                          \n",
       "GS_I0011=                16002 / GUIDE STAR INTENSITY                           \n",
       "GS_T0011=                61910 / [MSEC] GUIDE STAR LENGTH OF EXPOSURE           \n",
       "GS_L0011= 'GSC 01688-01903'    / GUIDE STAR IDENTIFIER                          \n",
       "GS_I0012=                 6981 / GUIDE STAR INTENSITY                           \n",
       "GS_T0012=                61910 / [MSEC] GUIDE STAR LENGTH OF EXPOSURE           \n",
       "GS_L0012= 'GSC 01688-00729'    / GUIDE STAR IDENTIFIER                          \n",
       "GS_I0013=                62564 / GUIDE STAR INTENSITY                           \n",
       "GS_T0013=                61910 / [MSEC] GUIDE STAR LENGTH OF EXPOSURE           \n",
       "GS_L0013= 'GSC 01688-01032'    / GUIDE STAR IDENTIFIER                          \n",
       "GS_I0014=                12987 / GUIDE STAR INTENSITY                           \n",
       "GS_T0014=                61910 / [MSEC] GUIDE STAR LENGTH OF EXPOSURE           \n",
       "GS_L0014= 'GSC 01688-01944'    / GUIDE STAR IDENTIFIER                          \n",
       "GS_I0015=                 8641 / GUIDE STAR INTENSITY                           \n",
       "GS_T0015=                61910 / [MSEC] GUIDE STAR LENGTH OF EXPOSURE           \n",
       "GS_L0015= 'GSC 01688-00849'    / GUIDE STAR IDENTIFIER                          \n",
       "GS_I0016=                34632 / GUIDE STAR INTENSITY                           \n",
       "GS_T0016=                61910 / [MSEC] GUIDE STAR LENGTH OF EXPOSURE           \n",
       "GS_L0016= 'GSC 01688-00636'    / GUIDE STAR IDENTIFIER                          \n",
       "GS_I0017=                91568 / GUIDE STAR INTENSITY                           \n",
       "GS_T0017=                61910 / [MSEC] GUIDE STAR LENGTH OF EXPOSURE           \n",
       "GS_L0017= 'GSC 01688-00842'    / GUIDE STAR IDENTIFIER                          \n",
       "GS_I0018=                15823 / GUIDE STAR INTENSITY                           \n",
       "GS_T0018=                61910 / [MSEC] GUIDE STAR LENGTH OF EXPOSURE           \n",
       "GS_L0018= 'GSC 01688-00958'    / GUIDE STAR IDENTIFIER                          \n",
       "GS_I0019=                28164 / GUIDE STAR INTENSITY                           \n",
       "GS_T0019=                61910 / [MSEC] GUIDE STAR LENGTH OF EXPOSURE           \n",
       "GS_L0019= 'GSC 01688-01766'    / GUIDE STAR IDENTIFIER                          \n",
       "NUM_BIS =                    0 / NUMBER OF BCKGRND FABRY IMAGE ROW/COL SUMS     \n",
       "NUM_BIM =                    0 / NUMBER OF BCKGRND FABRY IMAGE MEAN VALUES      \n",
       "NUM_SI  =                    5 / NUMBER OF SECONDARY BINNED IMAGES              \n",
       "NUM_SIM =                    0 / NUMBER OF SECONDARY IMAGE MEAN VALUES          \n",
       "CHECKSUM= '9PAm9O1l9O8l9O8l'   / HDU checksum updated 2016-01-21T21:46:10       \n",
       "DATASUM = '8756600 '           / data unit checksum updated 2016-01-21T21:46:10 \n",
       "OBJECT  = 'GSC 0168800523'     /Primary ID from Obs.Log. Default - Campaign Name\n",
       "O_ID    = 'BD+18 4922 '        /Contains an alternative ID if available         \n",
       "P_MAG   =        9.76000000000 /GSC P magnitude. Default-99.0                   \n",
       "SP_TYPE = 'K0      '           /Spectral type. Default - na                     \n",
       "PROG_ID = '268_HD209458_2014'  /Default - Campaign Name                         \n",
       "PI_NAME = 'J Rowe; MST'        /Default - MST                                   \n",
       "CRPIX1  =                   10 /Default - 10.0                                  \n",
       "CRPIX2  =                   10 /Default - 10.0                                  \n",
       "CRVAL1  =              331.078 /Default - RA from primary                       \n",
       "CRVAL2  =              19.4839 /Default - Dec from primary                      \n",
       "CDELT1  =          0.000827800 /Default - 0.0008278 (units - degrees/pixel)     \n",
       "CDELT2  =          0.000827800 /Default - 0.0008278 (units - degrees/pixel)     \n",
       "CTYPE1  = 'RA---TAN'           /Default - \"RA---TAN\"                            \n",
       "CTYPE2  = 'DEC--TAN'           /Default - \"DEC--TAN\"                            \n",
       "CUNIT1  = 'deg     '           /Default - \"deg\"                                 \n",
       "CUNIT2  = 'deg     '           /Default - \"deg\"                                 \n",
       "CROTA1  =              0.00000 /default - \"0.0\"                                 \n",
       "CROTA2  =              0.00000 /default - \"0.0\"                                 \n",
       "EXT_NO  =                    2 /Default = 0                                     \n",
       "OBS_MODE= 'di      '           /\"fab\",\"di\",\"gs - Guide star\"                    \n",
       "EXTNAME = 'SCNDRY01'           / number of bits per data pixel                  "
      ]
     },
     "execution_count": 4,
     "metadata": {},
     "output_type": "execute_result"
    }
   ],
   "source": [
    "hdr"
   ]
  },
  {
   "cell_type": "code",
   "execution_count": null,
   "metadata": {},
   "outputs": [],
   "source": [
    "plt.figure(figsize=(14, 8))\n",
    "plt.imshow(data, cmap=\"gray\")\n",
    "plt.colorbar()\n",
    "\n",
    "plt.title(\"Observer: {}\\nTarget: {}\".format(hdr[\"OBSERVER\"], hdr[\"TARGET\"]))\n",
    "plt.show()"
   ]
  },
  {
   "cell_type": "code",
   "execution_count": null,
   "metadata": {},
   "outputs": [],
   "source": [
    "type(data)"
   ]
  },
  {
   "cell_type": "code",
   "execution_count": null,
   "metadata": {},
   "outputs": [],
   "source": [
    "data.shape"
   ]
  },
  {
   "cell_type": "code",
   "execution_count": null,
   "metadata": {},
   "outputs": [],
   "source": [
    "df = pd.DataFrame(\n",
    "    np.array(data).byteswap().newbyteorder()\n",
    ")"
   ]
  },
  {
   "cell_type": "code",
   "execution_count": null,
   "metadata": {},
   "outputs": [],
   "source": [
    "df"
   ]
  },
  {
   "cell_type": "code",
   "execution_count": null,
   "metadata": {},
   "outputs": [],
   "source": [
    "df.values"
   ]
  },
  {
   "cell_type": "code",
   "execution_count": null,
   "metadata": {},
   "outputs": [],
   "source": [
    "df.query()"
   ]
  },
  {
   "cell_type": "code",
   "execution_count": null,
   "metadata": {},
   "outputs": [],
   "source": [
    "hdr"
   ]
  },
  {
   "cell_type": "code",
   "execution_count": null,
   "metadata": {},
   "outputs": [],
   "source": [
    "exposure_date = hdr[\"DATE-OBS\"]\n",
    "observer = hdr[\"OBSERVER\"]\n",
    "target = hdr[\"TARGET\"]\n",
    "amplifier_value = hdr[\"OPAMP\"]\n",
    "gain = hdr[\"GAIN\"]\n",
    "magnetic_field = hdr[\"MAG_FLD\"]\n",
    "error_number = hdr[\"ERR_NUMB\"]\n",
    "heater_voltage = hdr[\"HEATER_V\"]\n",
    "ccd_temp = hdr[\"T_CCD\"]\n",
    "board_temp = hdr[\"T_BOARD\"]\n",
    "preamp_temp = hdr[\"T_PREAMP\"]"
   ]
  },
  {
   "cell_type": "code",
   "execution_count": null,
   "metadata": {},
   "outputs": [],
   "source": [
    "ccd_temp"
   ]
  },
  {
   "cell_type": "code",
   "execution_count": null,
   "metadata": {},
   "outputs": [],
   "source": [
    "observer"
   ]
  },
  {
   "cell_type": "code",
   "execution_count": null,
   "metadata": {},
   "outputs": [],
   "source": [
    "target"
   ]
  },
  {
   "cell_type": "code",
   "execution_count": null,
   "metadata": {},
   "outputs": [],
   "source": [
    "amplifier_value"
   ]
  },
  {
   "cell_type": "code",
   "execution_count": null,
   "metadata": {},
   "outputs": [],
   "source": [
    "magnetic_field"
   ]
  },
  {
   "cell_type": "code",
   "execution_count": null,
   "metadata": {},
   "outputs": [],
   "source": [
    "values_lst = np.concatenate(data).ravel().tolist()"
   ]
  },
  {
   "cell_type": "code",
   "execution_count": null,
   "metadata": {},
   "outputs": [],
   "source": [
    "values_lst"
   ]
  },
  {
   "cell_type": "code",
   "execution_count": null,
   "metadata": {},
   "outputs": [],
   "source": [
    "threshold_value = 30000"
   ]
  },
  {
   "cell_type": "code",
   "execution_count": null,
   "metadata": {},
   "outputs": [],
   "source": [
    "above_threshold = [\n",
    "    i for i in values_lst\n",
    "    if i >= threshold_value\n",
    "]"
   ]
  },
  {
   "cell_type": "code",
   "execution_count": null,
   "metadata": {},
   "outputs": [],
   "source": [
    "len(above_threshold)"
   ]
  },
  {
   "cell_type": "code",
   "execution_count": null,
   "metadata": {},
   "outputs": [],
   "source": [
    "import os"
   ]
  },
  {
   "cell_type": "code",
   "execution_count": null,
   "metadata": {},
   "outputs": [],
   "source": [
    "import tarfile"
   ]
  },
  {
   "cell_type": "code",
   "execution_count": null,
   "metadata": {},
   "outputs": [],
   "source": [
    "notebook_path = os.path.abspath(\"exploratory.ipynb\")\n",
    "tar_dir = os.path.join(os.path.dirname(os.path.dirname(notebook_path)), \"datasets/\")\n",
    "tar_dir"
   ]
  },
  {
   "cell_type": "code",
   "execution_count": null,
   "metadata": {},
   "outputs": [],
   "source": [
    "import time"
   ]
  },
  {
   "cell_type": "code",
   "execution_count": null,
   "metadata": {},
   "outputs": [],
   "source": [
    "for root, dirs, files in os.walk(tar_dir):\n",
    "    for f in files:\n",
    "        if os.path.splitext(f)[1] == \".tar\":\n",
    "            \n",
    "            with tarfile.open(\n",
    "                name=os.path.join(root, f),\n",
    "                mode=\"r\"\n",
    "            ) as tar_obj:\n",
    "                \n",
    "                for member in tar_obj.getnames():\n",
    "                    extracted = tar_obj.extractfile(member)\n",
    "\n",
    "                    with fits.open(extracted) as hdul:\n",
    "                        data = hdul[0].data\n",
    "                        hdr = hdul[0].header"
   ]
  },
  {
   "cell_type": "code",
   "execution_count": null,
   "metadata": {},
   "outputs": [],
   "source": [
    "plt.figure(figsize=(14, 8))\n",
    "plt.imshow(data, cmap=\"gray\")\n",
    "plt.colorbar()\n",
    "\n",
    "plt.title(\"Observer: {}\\nTarget: {}\\nDate: {}\".format(hdr[\"OBSERVER\"], hdr[\"TARGET\"], hdr[\"DATE-OBS\"]))\n",
    "plt.show()"
   ]
  },
  {
   "cell_type": "code",
   "execution_count": null,
   "metadata": {},
   "outputs": [],
   "source": [
    "hdr[\"ERR_NUMB\"]"
   ]
  },
  {
   "cell_type": "code",
   "execution_count": null,
   "metadata": {},
   "outputs": [],
   "source": [
    "from astroquery.alma import Alma"
   ]
  },
  {
   "cell_type": "code",
   "execution_count": null,
   "metadata": {},
   "outputs": [],
   "source": [
    "star = Alma.query_object(\"HD209548\", public=False, science=False)"
   ]
  },
  {
   "cell_type": "code",
   "execution_count": null,
   "metadata": {},
   "outputs": [],
   "source": [
    "star"
   ]
  },
  {
   "cell_type": "code",
   "execution_count": null,
   "metadata": {},
   "outputs": [],
   "source": [
    "from astropy import coordinates, units as u, wcs\n",
    "from astroquery.skyview import SkyView\n",
    "from astroquery.vizier import Vizier\n",
    "from astroquery.mast import Mast, Observations"
   ]
  },
  {
   "cell_type": "code",
   "execution_count": null,
   "metadata": {},
   "outputs": [],
   "source": [
    "results = Observations.query_object(\"HD209548\")"
   ]
  },
  {
   "cell_type": "code",
   "execution_count": null,
   "metadata": {},
   "outputs": [],
   "source": [
    "results"
   ]
  },
  {
   "cell_type": "code",
   "execution_count": null,
   "metadata": {},
   "outputs": [],
   "source": [
    "selected_bands = results[\n",
    "    (results['obs_collection'] == 'TESS') &\n",
    "    (results['instrument_name'] == 'Photometer') &\n",
    "    (results[\"obsid\"] == \"17000033636\")                    \n",
    "]\n",
    "prodlist = Observations.get_product_list(selected_bands)\n",
    "filtered_prodlist = Observations.filter_products(prodlist)\n",
    "filtered_prodlist"
   ]
  },
  {
   "cell_type": "code",
   "execution_count": null,
   "metadata": {},
   "outputs": [],
   "source": [
    "def plot_image(image_data):\n",
    "    plt.figure(figsize=(14, 8))\n",
    "    plt.imshow(image_data)\n",
    "    plt.colorbar()\n",
    "\n",
    "    plt.show()"
   ]
  },
  {
   "cell_type": "code",
   "execution_count": null,
   "metadata": {},
   "outputs": [],
   "source": [
    "center = coordinates.SkyCoord.from_name(\"HD209548\")\n",
    "\n",
    "# Grab an image from SkyView of the Orion KL nebula region\n",
    "imglist = SkyView.get_images(position=center, survey=[\"DSS\", \"DSS2 IR\"])"
   ]
  },
  {
   "cell_type": "code",
   "execution_count": null,
   "metadata": {},
   "outputs": [],
   "source": [
    "imglist"
   ]
  },
  {
   "cell_type": "code",
   "execution_count": null,
   "metadata": {},
   "outputs": [],
   "source": [
    "for img in imglist:\n",
    "    image_data = img[0].data\n",
    "    wcs_data = wcs.WCS(img[0].header)\n",
    "    plot_image(image_data)"
   ]
  },
  {
   "cell_type": "code",
   "execution_count": null,
   "metadata": {},
   "outputs": [],
   "source": [
    "imglist[1]"
   ]
  },
  {
   "cell_type": "code",
   "execution_count": null,
   "metadata": {},
   "outputs": [],
   "source": [
    "img = imglist[0]\n",
    "\n",
    "# 'img' is now a fits.HDUList object; the 0th entry is the image\n",
    "mywcs = wcs.WCS(img[0].header)"
   ]
  },
  {
   "cell_type": "code",
   "execution_count": null,
   "metadata": {},
   "outputs": [],
   "source": [
    "mywcs"
   ]
  },
  {
   "cell_type": "code",
   "execution_count": null,
   "metadata": {},
   "outputs": [],
   "source": [
    "fig = plt.figure(1)\n",
    "fig.clf() # just in case one was open before\n",
    "# use astropy's wcsaxes tool to create an RA/Dec image\n",
    "ax = fig.add_axes([0.15, 0.1, 0.8, 0.8], projection=mywcs)\n",
    "ax.set_xlabel(\"RA\")\n",
    "ax.set_ylabel(\"Dec\")\n",
    "\n",
    "ax.imshow(img[0].data, cmap='gray_r', interpolation='none', origin='lower',\n",
    "          norm=plt.matplotlib.colors.LogNorm())\n",
    "\n"
   ]
  },
  {
   "cell_type": "code",
   "execution_count": null,
   "metadata": {},
   "outputs": [],
   "source": [
    "data = img[0].data\n",
    "hdr = img[0].header"
   ]
  },
  {
   "cell_type": "code",
   "execution_count": null,
   "metadata": {},
   "outputs": [],
   "source": [
    "plt.figure(figsize=(14, 8))\n",
    "plt.imshow(data, cmap=\"gray\")\n",
    "plt.colorbar()\n",
    "\n",
    "plt.show()"
   ]
  },
  {
   "cell_type": "code",
   "execution_count": null,
   "metadata": {},
   "outputs": [],
   "source": [
    "hdr"
   ]
  },
  {
   "cell_type": "code",
   "execution_count": null,
   "metadata": {},
   "outputs": [],
   "source": []
  }
 ],
 "metadata": {
  "kernelspec": {
   "display_name": "Python 3",
   "language": "python",
   "name": "python3"
  },
  "language_info": {
   "codemirror_mode": {
    "name": "ipython",
    "version": 3
   },
   "file_extension": ".py",
   "mimetype": "text/x-python",
   "name": "python",
   "nbconvert_exporter": "python",
   "pygments_lexer": "ipython3",
   "version": "3.7.1"
  }
 },
 "nbformat": 4,
 "nbformat_minor": 1
}
