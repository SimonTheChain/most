{
 "cells": [
  {
   "cell_type": "markdown",
   "metadata": {},
   "source": [
    "# Imports"
   ]
  },
  {
   "cell_type": "code",
   "execution_count": 1,
   "metadata": {},
   "outputs": [
    {
     "name": "stdout",
     "output_type": "stream",
     "text": [
      "[]\n"
     ]
    }
   ],
   "source": [
    "import os\n",
    "import datetime\n",
    "\n",
    "from sqlalchemy.ext.declarative import declarative_base\n",
    "from sqlalchemy import Column, Integer, String, DateTime\n",
    "from sqlalchemy import ForeignKey\n",
    "from sqlalchemy.orm import relationship\n",
    "\n",
    "import ipynb.fs.full.db_ops"
   ]
  },
  {
   "cell_type": "markdown",
   "metadata": {},
   "source": [
    "# Declare a mapping"
   ]
  },
  {
   "cell_type": "code",
   "execution_count": 2,
   "metadata": {},
   "outputs": [],
   "source": [
    "Base = declarative_base()"
   ]
  },
  {
   "cell_type": "code",
   "execution_count": 3,
   "metadata": {},
   "outputs": [],
   "source": [
    "class ValuesFromCsv(Base):\n",
    "    __tablename__ = \"values_from_csv\"\n",
    "    \n",
    "    id = Column(Integer, primary_key=True)\n",
    "    timestamp = Column(DateTime, default=datetime.datetime.now)\n",
    "    address = Column(String(16), unique=True)\n",
    "    zone = Column(Integer)\n",
    "    sensor_type = Column(Integer)\n",
    "    data_type = Column(Integer)\n",
    "    value = Column(Integer)\n",
    "    \n",
    "    def __repr__(self):\n",
    "        return address"
   ]
  },
  {
   "cell_type": "code",
   "execution_count": 4,
   "metadata": {},
   "outputs": [],
   "source": [
    "class BuildingGroup(Base):\n",
    "    __tablename__ = \"building_group\"\n",
    "    \n",
    "    id = Column(Integer, primary_key=True)\n",
    "    description = Column(String(32), nullable=True)\n",
    "    key_string = Column(String(8), unique=True)\n",
    "    \n",
    "    buildings = relationship(\"Building\", backref=\"building_group\")\n",
    "    units = relationship(\"Unit\", backref=\"building_group\")\n",
    "    rooms = relationship(\"Room\", backref=\"building_group\")\n",
    "    devices = relationship(\"Device\", backref=\"building_group\")\n",
    "    \n",
    "    def __repr__(self):\n",
    "        return description"
   ]
  },
  {
   "cell_type": "code",
   "execution_count": 5,
   "metadata": {},
   "outputs": [],
   "source": [
    "class Building(Base):\n",
    "    __tablename__ = \"building\"\n",
    "    id = Column(Integer, primary_key=True)\n",
    "    description = Column(String(32), nullable=True)\n",
    "    key_string = Column(String(8))\n",
    "    building_group_id = Column(\n",
    "        Integer, \n",
    "        ForeignKey(\"building_group.id\", onupdate=\"CASCADE\", ondelete=\"CASCADE\")\n",
    "    )\n",
    "    \n",
    "    units = relationship(\"Unit\", backref=\"building\")\n",
    "    rooms = relationship(\"Room\", backref=\"building\")\n",
    "    devices = relationship(\"Device\", backref=\"building\")\n",
    "    \n",
    "    def __repr__(self):\n",
    "        return description"
   ]
  },
  {
   "cell_type": "code",
   "execution_count": 6,
   "metadata": {},
   "outputs": [],
   "source": [
    "class Unit(Base):\n",
    "    __tablename__ = \"unit\"\n",
    "    \n",
    "    id = Column(Integer, primary_key=True)\n",
    "    description = Column(String(32), nullable=True)\n",
    "    key_string = Column(String(8))\n",
    "    building_id = Column(\n",
    "        Integer, \n",
    "        ForeignKey(\"building.id\", onupdate=\"CASCADE\", ondelete=\"CASCADE\")\n",
    "    )\n",
    "    building_group_id = Column(\n",
    "        Integer, \n",
    "        ForeignKey(\"building_group.id\", onupdate=\"CASCADE\", ondelete=\"CASCADE\")\n",
    "    )\n",
    "    \n",
    "    rooms = relationship(\"Room\", backref=\"unit\")\n",
    "    devices = relationship(\"Device\", backref=\"unit\")\n",
    "    \n",
    "    def __repr__(self):\n",
    "        return description"
   ]
  },
  {
   "cell_type": "code",
   "execution_count": 7,
   "metadata": {},
   "outputs": [],
   "source": [
    "class Room(Base):\n",
    "    __tablename__ = \"room\"\n",
    "    \n",
    "    id = Column(Integer, primary_key=True)\n",
    "    description = Column(String(32), nullable=True)\n",
    "    key_string = Column(String(8))\n",
    "    unit_id = Column(\n",
    "        Integer, \n",
    "        ForeignKey(\"unit.id\", onupdate=\"CASCADE\", ondelete=\"CASCADE\")\n",
    "    )\n",
    "    building_id = Column(\n",
    "        Integer, \n",
    "        ForeignKey(\"building.id\", onupdate=\"CASCADE\", ondelete=\"CASCADE\")\n",
    "    )\n",
    "    building_group_id = Column(\n",
    "        Integer, \n",
    "        ForeignKey(\"building_group.id\", onupdate=\"CASCADE\", ondelete=\"CASCADE\")\n",
    "    )\n",
    "    \n",
    "    def __repr__(self):\n",
    "        return description"
   ]
  },
  {
   "cell_type": "code",
   "execution_count": 8,
   "metadata": {},
   "outputs": [],
   "source": [
    "class DeviceType(Base):\n",
    "    __tablename__ = \"device_type\"\n",
    "    \n",
    "    id = Column(Integer, primary_key=True)\n",
    "    description = Column(String(32), nullable=True)\n",
    "    key_string = Column(String(8))\n",
    "    \n",
    "    devices = relationship(\"Device\", backref=\"device_type\")\n",
    "    \n",
    "    def __repr__(self):\n",
    "        return description"
   ]
  },
  {
   "cell_type": "code",
   "execution_count": 9,
   "metadata": {},
   "outputs": [],
   "source": [
    "class Device(Base):\n",
    "    __tablename__ = \"device\"\n",
    "    \n",
    "    id = Column(Integer, primary_key=True)\n",
    "    address = Column(String(16), unique=True)\n",
    "    serial = Column(String(14), unique=True)\n",
    "    room_id = Column(\n",
    "        Integer, \n",
    "        ForeignKey(\"room.id\", onupdate=\"CASCADE\", ondelete=\"CASCADE\")\n",
    "    )\n",
    "    unit_id = Column(\n",
    "        Integer, \n",
    "        ForeignKey(\"unit.id\", onupdate=\"CASCADE\", ondelete=\"CASCADE\")\n",
    "    )\n",
    "    building_id = Column(\n",
    "        Integer, \n",
    "        ForeignKey(\"building.id\", onupdate=\"CASCADE\", ondelete=\"CASCADE\")\n",
    "    )\n",
    "    building_group_id = Column(\n",
    "        Integer, \n",
    "        ForeignKey(\"building_group.id\", onupdate=\"CASCADE\", ondelete=\"CASCADE\")\n",
    "    )\n",
    "    device_type_id = Column(\n",
    "        Integer, \n",
    "        ForeignKey(\"device_type.id\", onupdate=\"CASCADE\", ondelete=\"CASCADE\")\n",
    "    )\n",
    "    \n",
    "    events = relationship(\"Event\", backref=\"device\")\n",
    "    values = relationship(\"Value\", backref=\"device\")\n",
    "    archimede_values = relationship(\"ArchimedeValue\", backref=\"device\")\n",
    "    \n",
    "    def __repr__(self):\n",
    "        return address"
   ]
  },
  {
   "cell_type": "code",
   "execution_count": 10,
   "metadata": {},
   "outputs": [],
   "source": [
    "class Event(Base):\n",
    "    __tablename__ = \"event\"\n",
    "    \n",
    "    id = Column(Integer, primary_key=True)\n",
    "    event_data = Column(Integer, nullable=True)\n",
    "    event_type = Column(Integer)\n",
    "    device_id = Column(\n",
    "        Integer, \n",
    "        ForeignKey(\"device.id\", onupdate=\"CASCADE\", ondelete=\"CASCADE\")\n",
    "    )\n",
    "    \n",
    "    def __repr__(self):\n",
    "        return event_type"
   ]
  },
  {
   "cell_type": "code",
   "execution_count": 11,
   "metadata": {},
   "outputs": [],
   "source": [
    "class Value(Base):\n",
    "    __tablename__ = \"value\"\n",
    "    \n",
    "    id = Column(Integer, primary_key=True)\n",
    "    timestamp = Column(DateTime, default=datetime.datetime.utcnow)\n",
    "    batt_volt = Column(Integer, nullable=True)\n",
    "    comp_temp = Column(Integer, nullable=True)\n",
    "    leak_value = Column(Integer, nullable=True)\n",
    "    pcb_temp = Column(Integer, nullable=True)\n",
    "    rel_hum = Column(Integer, nullable=True)\n",
    "    room_temp = Column(Integer, nullable=True)\n",
    "    status = Column(Integer, nullable=True)\n",
    "    device_id = Column(\n",
    "        Integer, \n",
    "        ForeignKey(\"device.id\", onupdate=\"CASCADE\", ondelete=\"CASCADE\")\n",
    "    )\n",
    "    \n",
    "    archimede_values = relationship(\"ArchimedeValue\", backref=\"value\")\n",
    "    \n",
    "    def __repr__(self):\n",
    "        return timestamp"
   ]
  },
  {
   "cell_type": "code",
   "execution_count": 12,
   "metadata": {},
   "outputs": [],
   "source": [
    "class ArchimedeValue(Base):\n",
    "    __tablename__ = \"archimede_value\"\n",
    "    \n",
    "    id = Column(Integer, primary_key=True)\n",
    "    flow_cold = Column(Integer, nullable=True)\n",
    "    flow_hot = Column(Integer, nullable=True)\n",
    "    device_id = Column(\n",
    "        Integer, \n",
    "        ForeignKey(\"device.id\", onupdate=\"CASCADE\", ondelete=\"CASCADE\")\n",
    "    )\n",
    "    value_data_id = Column(\n",
    "        Integer, \n",
    "        ForeignKey(\"value.id\", onupdate=\"CASCADE\", ondelete=\"CASCADE\")\n",
    "    )\n",
    "    \n",
    "    def __repr__(self):\n",
    "        return value_data.timestamp"
   ]
  },
  {
   "cell_type": "markdown",
   "metadata": {},
   "source": [
    "## Visualization Tables"
   ]
  },
  {
   "cell_type": "code",
   "execution_count": 13,
   "metadata": {},
   "outputs": [],
   "source": [
    "class LeakValue(Base):\n",
    "    __tablename__ = \"leak_value\"\n",
    "    \n",
    "    id = Column(Integer, primary_key=True)\n",
    "    value = Column(Integer)\n",
    "    timestamp = Column(DateTime, default=datetime.datetime.utcnow)\n",
    "    device = Column(String(16))\n",
    "    device_type = Column(String(32))\n",
    "    room = Column(String(32))\n",
    "    unit = Column(String(32))\n",
    "    building = Column(String(32))\n",
    "    building_group = Column(String(32))\n",
    "    \n",
    "    def __repr__(self):\n",
    "        return value"
   ]
  },
  {
   "cell_type": "code",
   "execution_count": 14,
   "metadata": {},
   "outputs": [],
   "source": [
    "class Temperature(Base):\n",
    "    __tablename__ = \"temperature\"\n",
    "    \n",
    "    id = Column(Integer, primary_key=True)\n",
    "    timestamp = Column(DateTime, default=datetime.datetime.utcnow)\n",
    "    comp_temp = Column(Integer, nullable=True)\n",
    "    pcb_temp = Column(Integer, nullable=True)\n",
    "    room_temp = Column(Integer, nullable=True)\n",
    "    value_id = Column(Integer)\n",
    "    device = Column(String(16))\n",
    "    device_type = Column(String(32))\n",
    "    room = Column(String(32))\n",
    "    unit = Column(String(32))\n",
    "    building = Column(String(32))\n",
    "    building_group = Column(String(32))\n",
    "    \n",
    "    def __repr__(self):\n",
    "        return timestamp"
   ]
  },
  {
   "cell_type": "code",
   "execution_count": 15,
   "metadata": {},
   "outputs": [],
   "source": [
    "class LeakTemp(Base):\n",
    "    __tablename__ = \"leak_temp\"\n",
    "    \n",
    "    id = Column(Integer, primary_key=True)\n",
    "    timestamp = Column(DateTime, default=datetime.datetime.utcnow)\n",
    "    leak_value = Column(Integer, nullable=True)\n",
    "    room_temp = Column(Integer, nullable=True)\n",
    "    value_id = Column(Integer)\n",
    "    device = Column(String(16))\n",
    "    device_type = Column(String(32))\n",
    "    room = Column(String(32))\n",
    "    unit = Column(String(32))\n",
    "    building = Column(String(32))\n",
    "    building_group = Column(String(32))\n",
    "    \n",
    "    def __repr__(self):\n",
    "        return timestamp"
   ]
  },
  {
   "cell_type": "code",
   "execution_count": 16,
   "metadata": {},
   "outputs": [],
   "source": [
    "class FlowTemp(Base):\n",
    "    __tablename__ = \"flow_temp\"\n",
    "    \n",
    "    id = Column(Integer, primary_key=True)\n",
    "    timestamp = Column(DateTime, default=datetime.datetime.utcnow)\n",
    "    flow_cold = Column(Integer, nullable=True)\n",
    "    flow_hot = Column(Integer, nullable=True)\n",
    "    comp_temp = Column(Integer, nullable=True)\n",
    "    pcb_temp = Column(Integer, nullable=True)\n",
    "    room_temp = Column(Integer, nullable=True)\n",
    "    value_id = Column(Integer)\n",
    "    device = Column(String(16))\n",
    "    device_type = Column(String(32))\n",
    "    room = Column(String(32))\n",
    "    unit = Column(String(32))\n",
    "    building = Column(String(32))\n",
    "    building_group = Column(String(32))\n",
    "    \n",
    "    def __repr__(self):\n",
    "        return timestamp"
   ]
  },
  {
   "cell_type": "markdown",
   "metadata": {},
   "source": [
    "# Create a schema"
   ]
  },
  {
   "cell_type": "code",
   "execution_count": 17,
   "metadata": {},
   "outputs": [],
   "source": [
    "engine = ipynb.fs.full.db_ops.get_engine()\n",
    "Base.metadata.create_all(engine)"
   ]
  }
 ],
 "metadata": {
  "kernelspec": {
   "display_name": "Python 3",
   "language": "python",
   "name": "python3"
  },
  "language_info": {
   "codemirror_mode": {
    "name": "ipython",
    "version": 3
   },
   "file_extension": ".py",
   "mimetype": "text/x-python",
   "name": "python",
   "nbconvert_exporter": "python",
   "pygments_lexer": "ipython3",
   "version": "3.7.1"
  }
 },
 "nbformat": 4,
 "nbformat_minor": 2
}
