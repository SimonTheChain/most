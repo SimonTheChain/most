{
 "cells": [
  {
   "cell_type": "markdown",
   "metadata": {},
   "source": [
    "## Imports"
   ]
  },
  {
   "cell_type": "code",
   "execution_count": 1,
   "metadata": {},
   "outputs": [
    {
     "name": "stdout",
     "output_type": "stream",
     "text": [
      "['leak_value', 'temperature', 'leak_temp', 'flow_temp', 'device_type', 'unit', 'building_group', 'building', 'room', 'device', 'event', 'value', 'archimede_value', 'ValuesFromCsv', 'values_from_csv']\n"
     ]
    }
   ],
   "source": [
    "import ipynb.fs.full.db_ops\n",
    "from ipynb.fs.full.tables import SatStats"
   ]
  },
  {
   "cell_type": "markdown",
   "metadata": {},
   "source": [
    "## Clear Table Function"
   ]
  },
  {
   "cell_type": "code",
   "execution_count": 2,
   "metadata": {},
   "outputs": [],
   "source": [
    "def clear_table(table):\n",
    "    try:\n",
    "        num_rows_deleted = session.query(table).delete()\n",
    "        session.commit()\n",
    "        return num_rows_deleted\n",
    "    except:\n",
    "        db.session.rollback()"
   ]
  },
  {
   "cell_type": "markdown",
   "metadata": {},
   "source": [
    "## Session Creation"
   ]
  },
  {
   "cell_type": "code",
   "execution_count": 5,
   "metadata": {},
   "outputs": [],
   "source": [
    "session = ipynb.fs.full.db_ops.get_session()"
   ]
  },
  {
   "cell_type": "markdown",
   "metadata": {},
   "source": [
    "## Tables Deletion"
   ]
  },
  {
   "cell_type": "code",
   "execution_count": 4,
   "metadata": {},
   "outputs": [
    {
     "name": "stdout",
     "output_type": "stream",
     "text": [
      "Records: 0\n"
     ]
    }
   ],
   "source": [
    "print(\"Records: {}\".format(clear_table(SatStats)))"
   ]
  },
  {
   "cell_type": "code",
   "execution_count": 8,
   "metadata": {},
   "outputs": [
    {
     "name": "stdout",
     "output_type": "stream",
     "text": [
      "SELECT values_from_csv.id AS values_from_csv_id, values_from_csv.timestamp AS values_from_csv_timestamp, values_from_csv.address AS values_from_csv_address, values_from_csv.zone AS values_from_csv_zone, values_from_csv.sensor_type AS values_from_csv_sensor_type, values_from_csv.data_type AS values_from_csv_data_type, values_from_csv.value AS values_from_csv_value \n",
      "FROM values_from_csv\n"
     ]
    }
   ],
   "source": [
    "print(session.query(SatStats))"
   ]
  }
 ],
 "metadata": {
  "kernelspec": {
   "display_name": "Python 3",
   "language": "python",
   "name": "python3"
  },
  "language_info": {
   "codemirror_mode": {
    "name": "ipython",
    "version": 3
   },
   "file_extension": ".py",
   "mimetype": "text/x-python",
   "name": "python",
   "nbconvert_exporter": "python",
   "pygments_lexer": "ipython3",
   "version": "3.7.1"
  }
 },
 "nbformat": 4,
 "nbformat_minor": 2
}
