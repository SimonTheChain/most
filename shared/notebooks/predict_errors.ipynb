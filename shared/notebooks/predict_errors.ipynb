{
 "cells": [
  {
   "cell_type": "markdown",
   "metadata": {},
   "source": [
    "# Predicting Errors in Satellite Imagery\n",
    "\n",
    "Author: Simon Lachaîne\n",
    "simonthechain@gmail.com"
   ]
  },
  {
   "cell_type": "markdown",
   "metadata": {},
   "source": [
    "## Objective"
   ]
  },
  {
   "cell_type": "markdown",
   "metadata": {},
   "source": [
    "Analyze various parameters recorded by a satellite alongside an image to determine which parameters are the most significant regarding the number of errors."
   ]
  },
  {
   "cell_type": "markdown",
   "metadata": {},
   "source": [
    "## Dataset"
   ]
  },
  {
   "cell_type": "markdown",
   "metadata": {},
   "source": [
    "MOST-268_HD209458_2014-268_HD209458_2014: Data recorded by the MOST satellite (http://www.asc-csa.gc.ca/fra/satellites/most/default.asp)"
   ]
  },
  {
   "cell_type": "markdown",
   "metadata": {},
   "source": [
    "## Initialization"
   ]
  },
  {
   "cell_type": "code",
   "execution_count": 1,
   "metadata": {},
   "outputs": [],
   "source": [
    "import os\n",
    "import tarfile\n",
    "\n",
    "from astropy.visualization import astropy_mpl_style\n",
    "from astropy.io import fits\n",
    "\n",
    "import numpy as np\n",
    "import pandas as pd\n",
    "import matplotlib.pyplot as plt\n",
    "\n",
    "import ipynb.fs.full.db_ops"
   ]
  },
  {
   "cell_type": "code",
   "execution_count": 2,
   "metadata": {},
   "outputs": [],
   "source": [
    "plt.style.use(astropy_mpl_style)\n",
    "%matplotlib inline"
   ]
  },
  {
   "cell_type": "code",
   "execution_count": 3,
   "metadata": {},
   "outputs": [],
   "source": [
    "# database connection\n",
    "engine = ipynb.fs.full.db_ops.get_engine()\n",
    "session = ipynb.fs.full.db_ops.get_session()"
   ]
  },
  {
   "cell_type": "markdown",
   "metadata": {},
   "source": [
    "## Ingesting Data\n",
    "\n",
    "Included here for demonstration purposes, this will be implemented in a DAG through Airflow"
   ]
  },
  {
   "cell_type": "code",
   "execution_count": 4,
   "metadata": {},
   "outputs": [],
   "source": [
    "# locate the dataset directory relative to this notebook\n",
    "notebook_path = os.path.abspath(\"predict_errors.ipynb\")\n",
    "tar_dir = os.path.join(os.path.dirname(os.path.dirname(notebook_path)), \"datasets/\")"
   ]
  },
  {
   "cell_type": "code",
   "execution_count": 5,
   "metadata": {},
   "outputs": [],
   "source": [
    "data = []\n",
    "\n",
    "for root, dirs, files in os.walk(tar_dir):\n",
    "    for f in files:\n",
    "        if os.path.splitext(f)[1] == \".tar\":\n",
    "            \n",
    "            # extract .tar file in memory\n",
    "            with tarfile.open(\n",
    "                name=os.path.join(root, f),\n",
    "                mode=\"r\"\n",
    "            ) as tar_obj:\n",
    "                \n",
    "                # for every file in the tar file\n",
    "                for member in tar_obj.getnames():\n",
    "                    if os.path.splitext(member)[1] == \".fits\":\n",
    "                        extracted = tar_obj.extractfile(member)\n",
    "                        \n",
    "                        # open extracted .fits file\n",
    "                        with fits.open(extracted) as hdul:\n",
    "                            hdr = hdul[0].header\n",
    "                            \n",
    "                            data_dct = {\n",
    "                                \"filename\": member,\n",
    "                                \"observer\": hdr[\"OBSERVER\"],\n",
    "                                \"target\": hdr[\"TARGET\"],\n",
    "                                \"exposure_date\": hdr[\"DATE-OBS\"],\n",
    "                                \"amplifier_value\": hdr[\"OPAMP\"],\n",
    "                                \"gain\": hdr[\"GAIN\"],\n",
    "                                \"magnetic_field\": hdr[\"MAG_FLD\"],\n",
    "                                \"heater_voltage\": hdr[\"HEATER_V\"],\n",
    "                                \"ccd_temp\": hdr[\"T_CCD\"],\n",
    "                                \"board_temp\": hdr[\"T_BOARD\"],\n",
    "                                \"preamp_temp\": hdr[\"T_PREAMP\"],\n",
    "                                \"errors\": hdr[\"ERR_NUMB\"],\n",
    "                            }\n",
    "                            data.append(data_dct)"
   ]
  },
  {
   "cell_type": "code",
   "execution_count": null,
   "metadata": {},
   "outputs": [],
   "source": [
    "# create a dataframe from the list of data dictionaries\n",
    "df = pd.DataFrame(data)\n",
    "\n",
    "# write the dataframe to the database\n",
    "df.to_sql(\n",
    "    name=\"SatStats\",\n",
    "    con=engine,\n",
    "    if_exists=\"append\",\n",
    "    index=False,\n",
    ")"
   ]
  },
  {
   "cell_type": "markdown",
   "metadata": {},
   "source": [
    "## Loading Data"
   ]
  },
  {
   "cell_type": "code",
   "execution_count": null,
   "metadata": {},
   "outputs": [],
   "source": [
    "# predictor features\n",
    "predictors = [\n",
    "    \"amplifier_value\", \n",
    "    \"gain\", \n",
    "    \"magnetic_field\", \n",
    "    \"ccd_temp\", \n",
    "    \"board_temp\", \n",
    "    \"preamp_temp\",\n",
    "]\n",
    "\n",
    "# target feature\n",
    "target = [\"errors\"]"
   ]
  },
  {
   "cell_type": "code",
   "execution_count": null,
   "metadata": {},
   "outputs": [],
   "source": [
    "columns = [\n",
    "    \"filename\",\n",
    "    \"observer\",\n",
    "    \"target\",\n",
    "    \"exposure_date\",\n",
    "]\n",
    "columns.extend(predictors)\n",
    "columns.extend(target)\n",
    "\n",
    "df = pd.read_sql(\n",
    "    sql=\"SatStats\",\n",
    "    con=engine,\n",
    "    parse_dates=\"exposure_date\",\n",
    "    columns=columns\n",
    ")"
   ]
  },
  {
   "cell_type": "markdown",
   "metadata": {},
   "source": [
    "## Data Preprocessing"
   ]
  },
  {
   "cell_type": "code",
   "execution_count": 6,
   "metadata": {},
   "outputs": [],
   "source": [
    "df = pd.DataFrame(data)"
   ]
  },
  {
   "cell_type": "code",
   "execution_count": 7,
   "metadata": {},
   "outputs": [],
   "source": [
    "# use readable column names\n",
    "display_names = {\n",
    "    \"filename\": \"Filename\",\n",
    "    \"observer\": \"Observer\",\n",
    "    \"target\": \"Target\",\n",
    "    \"exposure_date\": \"Exposure Date\",\n",
    "    \"amplifier_value\": \"Amplifier Value\",\n",
    "    \"gain\": \"Gain\",\n",
    "    \"magnetic_field\": \"Magnetic Field Value\",\n",
    "    \"heater_voltage\": \"Heater Voltage\",\n",
    "    \"ccd_temp\": \"CCD Temperature\",\n",
    "    \"board_temp\": \"Board Temperature\",\n",
    "    \"preamp_temp\": \"Preamp Temperature\",\n",
    "    \"errors\": \"Errors\",\n",
    "}\n",
    "df.rename(columns=display_names, inplace=True)"
   ]
  },
  {
   "cell_type": "code",
   "execution_count": 9,
   "metadata": {},
   "outputs": [],
   "source": [
    "# set exposure date as index\n",
    "df[\"Exposure Date\"] = pd.to_datetime(df[\"Exposure Date\"], format=\"%Y-%m-%dT%H:%M:%S.000\")\n",
    "df.set_index(keys=\"Exposure Date\", inplace=True)\n",
    "df.sort_index(axis=0, inplace=True)"
   ]
  },
  {
   "cell_type": "code",
   "execution_count": 19,
   "metadata": {},
   "outputs": [],
   "source": [
    "df = df[[\"heater_voltage\", \"ccd_temp\", \"board_temp\"]]"
   ]
  },
  {
   "cell_type": "markdown",
   "metadata": {},
   "source": [
    "## Analysis"
   ]
  },
  {
   "cell_type": "code",
   "execution_count": 10,
   "metadata": {},
   "outputs": [
    {
     "data": {
      "text/html": [
       "<div>\n",
       "<style scoped>\n",
       "    .dataframe tbody tr th:only-of-type {\n",
       "        vertical-align: middle;\n",
       "    }\n",
       "\n",
       "    .dataframe tbody tr th {\n",
       "        vertical-align: top;\n",
       "    }\n",
       "\n",
       "    .dataframe thead th {\n",
       "        text-align: right;\n",
       "    }\n",
       "</style>\n",
       "<table border=\"1\" class=\"dataframe\">\n",
       "  <thead>\n",
       "    <tr style=\"text-align: right;\">\n",
       "      <th></th>\n",
       "      <th>Amplifier Value</th>\n",
       "      <th>Board Temperature</th>\n",
       "      <th>CCD Temperature</th>\n",
       "      <th>Errors</th>\n",
       "      <th>Gain</th>\n",
       "      <th>Heater Voltage</th>\n",
       "      <th>Magnetic Field Value</th>\n",
       "      <th>Preamp Temperature</th>\n",
       "    </tr>\n",
       "  </thead>\n",
       "  <tbody>\n",
       "    <tr>\n",
       "      <th>count</th>\n",
       "      <td>6708.0</td>\n",
       "      <td>6708.000000</td>\n",
       "      <td>6708.000000</td>\n",
       "      <td>6708.000000</td>\n",
       "      <td>6708.0</td>\n",
       "      <td>6708.000000</td>\n",
       "      <td>6708.000000</td>\n",
       "      <td>6708.000000</td>\n",
       "    </tr>\n",
       "    <tr>\n",
       "      <th>mean</th>\n",
       "      <td>3.0</td>\n",
       "      <td>301.974215</td>\n",
       "      <td>238.004417</td>\n",
       "      <td>120.281157</td>\n",
       "      <td>1.0</td>\n",
       "      <td>3.909733</td>\n",
       "      <td>33183.963045</td>\n",
       "      <td>253.635064</td>\n",
       "    </tr>\n",
       "    <tr>\n",
       "      <th>std</th>\n",
       "      <td>0.0</td>\n",
       "      <td>0.605522</td>\n",
       "      <td>0.021845</td>\n",
       "      <td>19.820793</td>\n",
       "      <td>0.0</td>\n",
       "      <td>0.489814</td>\n",
       "      <td>7281.736133</td>\n",
       "      <td>1.157169</td>\n",
       "    </tr>\n",
       "    <tr>\n",
       "      <th>min</th>\n",
       "      <td>3.0</td>\n",
       "      <td>300.415000</td>\n",
       "      <td>237.820000</td>\n",
       "      <td>2.000000</td>\n",
       "      <td>1.0</td>\n",
       "      <td>0.000000</td>\n",
       "      <td>17019.006000</td>\n",
       "      <td>252.441000</td>\n",
       "    </tr>\n",
       "    <tr>\n",
       "      <th>25%</th>\n",
       "      <td>3.0</td>\n",
       "      <td>301.514000</td>\n",
       "      <td>238.002000</td>\n",
       "      <td>128.000000</td>\n",
       "      <td>1.0</td>\n",
       "      <td>3.808000</td>\n",
       "      <td>26888.738000</td>\n",
       "      <td>253.052000</td>\n",
       "    </tr>\n",
       "    <tr>\n",
       "      <th>50%</th>\n",
       "      <td>3.0</td>\n",
       "      <td>302.002000</td>\n",
       "      <td>238.002000</td>\n",
       "      <td>128.000000</td>\n",
       "      <td>1.0</td>\n",
       "      <td>4.021000</td>\n",
       "      <td>34994.234500</td>\n",
       "      <td>253.296000</td>\n",
       "    </tr>\n",
       "    <tr>\n",
       "      <th>75%</th>\n",
       "      <td>3.0</td>\n",
       "      <td>302.368000</td>\n",
       "      <td>238.023000</td>\n",
       "      <td>128.000000</td>\n",
       "      <td>1.0</td>\n",
       "      <td>4.195000</td>\n",
       "      <td>39993.574750</td>\n",
       "      <td>253.540000</td>\n",
       "    </tr>\n",
       "    <tr>\n",
       "      <th>max</th>\n",
       "      <td>3.0</td>\n",
       "      <td>304.565000</td>\n",
       "      <td>238.164000</td>\n",
       "      <td>128.000000</td>\n",
       "      <td>1.0</td>\n",
       "      <td>4.826000</td>\n",
       "      <td>44679.224000</td>\n",
       "      <td>257.080000</td>\n",
       "    </tr>\n",
       "  </tbody>\n",
       "</table>\n",
       "</div>"
      ],
      "text/plain": [
       "       Amplifier Value  Board Temperature  CCD Temperature       Errors  \\\n",
       "count           6708.0        6708.000000      6708.000000  6708.000000   \n",
       "mean               3.0         301.974215       238.004417   120.281157   \n",
       "std                0.0           0.605522         0.021845    19.820793   \n",
       "min                3.0         300.415000       237.820000     2.000000   \n",
       "25%                3.0         301.514000       238.002000   128.000000   \n",
       "50%                3.0         302.002000       238.002000   128.000000   \n",
       "75%                3.0         302.368000       238.023000   128.000000   \n",
       "max                3.0         304.565000       238.164000   128.000000   \n",
       "\n",
       "         Gain  Heater Voltage  Magnetic Field Value  Preamp Temperature  \n",
       "count  6708.0     6708.000000           6708.000000         6708.000000  \n",
       "mean      1.0        3.909733          33183.963045          253.635064  \n",
       "std       0.0        0.489814           7281.736133            1.157169  \n",
       "min       1.0        0.000000          17019.006000          252.441000  \n",
       "25%       1.0        3.808000          26888.738000          253.052000  \n",
       "50%       1.0        4.021000          34994.234500          253.296000  \n",
       "75%       1.0        4.195000          39993.574750          253.540000  \n",
       "max       1.0        4.826000          44679.224000          257.080000  "
      ]
     },
     "execution_count": 10,
     "metadata": {},
     "output_type": "execute_result"
    }
   ],
   "source": [
    "df.describe()"
   ]
  },
  {
   "cell_type": "markdown",
   "metadata": {},
   "source": [
    "## Line Plot"
   ]
  },
  {
   "cell_type": "code",
   "execution_count": 12,
   "metadata": {},
   "outputs": [
    {
     "data": {
      "image/png": "[encoded data removed]",
      "text/plain": [
       "<Figure size 1008x576 with 1 Axes>"
      ]
     },
     "metadata": {
      "needs_background": "light"
     },
     "output_type": "display_data"
    }
   ],
   "source": [
    "df = df.loc[:, df.columns != \"Magnetic Field Value\"]\n",
    "df.plot(kind=\"line\", style=\".\", figsize=(14, 8))\n",
    "\n",
    "plt.title(\"MOST parameters over time\")\n",
    "plt.xlabel(\"Exposure Date\")\n",
    "plt.ylabel(\"Values\")\n",
    "\n",
    "plt.show()"
   ]
  },
  {
   "cell_type": "code",
   "execution_count": 22,
   "metadata": {},
   "outputs": [],
   "source": [
    "df = df.loc[:\"2014-08-21\"]"
   ]
  },
  {
   "cell_type": "code",
   "execution_count": 23,
   "metadata": {},
   "outputs": [
    {
     "data": {
      "text/html": [
       "<div>\n",
       "<style scoped>\n",
       "    .dataframe tbody tr th:only-of-type {\n",
       "        vertical-align: middle;\n",
       "    }\n",
       "\n",
       "    .dataframe tbody tr th {\n",
       "        vertical-align: top;\n",
       "    }\n",
       "\n",
       "    .dataframe thead th {\n",
       "        text-align: right;\n",
       "    }\n",
       "</style>\n",
       "<table border=\"1\" class=\"dataframe\">\n",
       "  <thead>\n",
       "    <tr style=\"text-align: right;\">\n",
       "      <th></th>\n",
       "      <th>heater_voltage</th>\n",
       "      <th>ccd_temp</th>\n",
       "      <th>board_temp</th>\n",
       "    </tr>\n",
       "    <tr>\n",
       "      <th>exposure_date</th>\n",
       "      <th></th>\n",
       "      <th></th>\n",
       "      <th></th>\n",
       "    </tr>\n",
       "  </thead>\n",
       "  <tbody>\n",
       "    <tr>\n",
       "      <th>2014-08-19 20:11:35</th>\n",
       "      <td>3.305</td>\n",
       "      <td>237.982</td>\n",
       "      <td>302.856</td>\n",
       "    </tr>\n",
       "    <tr>\n",
       "      <th>2014-08-19 20:12:37</th>\n",
       "      <td>3.125</td>\n",
       "      <td>237.982</td>\n",
       "      <td>302.734</td>\n",
       "    </tr>\n",
       "    <tr>\n",
       "      <th>2014-08-19 20:13:39</th>\n",
       "      <td>3.296</td>\n",
       "      <td>238.002</td>\n",
       "      <td>302.734</td>\n",
       "    </tr>\n",
       "    <tr>\n",
       "      <th>2014-08-19 20:14:41</th>\n",
       "      <td>3.287</td>\n",
       "      <td>238.002</td>\n",
       "      <td>302.734</td>\n",
       "    </tr>\n",
       "    <tr>\n",
       "      <th>2014-08-19 21:19:35</th>\n",
       "      <td>3.729</td>\n",
       "      <td>237.901</td>\n",
       "      <td>303.223</td>\n",
       "    </tr>\n",
       "  </tbody>\n",
       "</table>\n",
       "</div>"
      ],
      "text/plain": [
       "                     heater_voltage  ccd_temp  board_temp\n",
       "exposure_date                                            \n",
       "2014-08-19 20:11:35           3.305   237.982     302.856\n",
       "2014-08-19 20:12:37           3.125   237.982     302.734\n",
       "2014-08-19 20:13:39           3.296   238.002     302.734\n",
       "2014-08-19 20:14:41           3.287   238.002     302.734\n",
       "2014-08-19 21:19:35           3.729   237.901     303.223"
      ]
     },
     "execution_count": 23,
     "metadata": {},
     "output_type": "execute_result"
    }
   ],
   "source": [
    "df.head()"
   ]
  },
  {
   "cell_type": "code",
   "execution_count": 24,
   "metadata": {},
   "outputs": [
    {
     "data": {
      "text/html": [
       "<div>\n",
       "<style scoped>\n",
       "    .dataframe tbody tr th:only-of-type {\n",
       "        vertical-align: middle;\n",
       "    }\n",
       "\n",
       "    .dataframe tbody tr th {\n",
       "        vertical-align: top;\n",
       "    }\n",
       "\n",
       "    .dataframe thead th {\n",
       "        text-align: right;\n",
       "    }\n",
       "</style>\n",
       "<table border=\"1\" class=\"dataframe\">\n",
       "  <thead>\n",
       "    <tr style=\"text-align: right;\">\n",
       "      <th></th>\n",
       "      <th>heater_voltage</th>\n",
       "      <th>ccd_temp</th>\n",
       "      <th>board_temp</th>\n",
       "    </tr>\n",
       "    <tr>\n",
       "      <th>exposure_date</th>\n",
       "      <th></th>\n",
       "      <th></th>\n",
       "      <th></th>\n",
       "    </tr>\n",
       "  </thead>\n",
       "  <tbody>\n",
       "    <tr>\n",
       "      <th>2014-08-21 20:15:10</th>\n",
       "      <td>3.409</td>\n",
       "      <td>238.002</td>\n",
       "      <td>301.270</td>\n",
       "    </tr>\n",
       "    <tr>\n",
       "      <th>2014-08-21 20:17:13</th>\n",
       "      <td>3.552</td>\n",
       "      <td>238.002</td>\n",
       "      <td>301.147</td>\n",
       "    </tr>\n",
       "    <tr>\n",
       "      <th>2014-08-21 20:19:16</th>\n",
       "      <td>3.567</td>\n",
       "      <td>238.002</td>\n",
       "      <td>301.147</td>\n",
       "    </tr>\n",
       "    <tr>\n",
       "      <th>2014-08-21 20:21:19</th>\n",
       "      <td>3.814</td>\n",
       "      <td>237.982</td>\n",
       "      <td>301.270</td>\n",
       "    </tr>\n",
       "    <tr>\n",
       "      <th>2014-08-21 20:23:22</th>\n",
       "      <td>3.723</td>\n",
       "      <td>238.002</td>\n",
       "      <td>301.270</td>\n",
       "    </tr>\n",
       "  </tbody>\n",
       "</table>\n",
       "</div>"
      ],
      "text/plain": [
       "                     heater_voltage  ccd_temp  board_temp\n",
       "exposure_date                                            \n",
       "2014-08-21 20:15:10           3.409   238.002     301.270\n",
       "2014-08-21 20:17:13           3.552   238.002     301.147\n",
       "2014-08-21 20:19:16           3.567   238.002     301.147\n",
       "2014-08-21 20:21:19           3.814   237.982     301.270\n",
       "2014-08-21 20:23:22           3.723   238.002     301.270"
      ]
     },
     "execution_count": 24,
     "metadata": {},
     "output_type": "execute_result"
    }
   ],
   "source": [
    "df.tail()"
   ]
  },
  {
   "cell_type": "code",
   "execution_count": 25,
   "metadata": {},
   "outputs": [
    {
     "data": {
      "image/png": "[encoded data removed]",
      "text/plain": [
       "<Figure size 1008x576 with 1 Axes>"
      ]
     },
     "metadata": {
      "needs_background": "light"
     },
     "output_type": "display_data"
    }
   ],
   "source": [
    "# df = df.loc[:, df.columns != \"Magnetic Field Value\"]\n",
    "df.plot(kind=\"line\", style=\".\", figsize=(14, 8))\n",
    "\n",
    "plt.title(\"MOST parameters over time\")\n",
    "plt.xlabel(\"Exposure Date\")\n",
    "plt.ylabel(\"Values\")\n",
    "\n",
    "plt.show()"
   ]
  },
  {
   "cell_type": "code",
   "execution_count": null,
   "metadata": {},
   "outputs": [],
   "source": []
  }
 ],
 "metadata": {
  "kernelspec": {
   "display_name": "Python 3",
   "language": "python",
   "name": "python3"
  },
  "language_info": {
   "codemirror_mode": {
    "name": "ipython",
    "version": 3
   },
   "file_extension": ".py",
   "mimetype": "text/x-python",
   "name": "python",
   "nbconvert_exporter": "python",
   "pygments_lexer": "ipython3",
   "version": "3.7.1"
  }
 },
 "nbformat": 4,
 "nbformat_minor": 2
}
